{
  "nbformat": 4,
  "nbformat_minor": 0,
  "metadata": {
    "colab": {
      "name": "Python(214513).ipynb",
      "provenance": [],
      "authorship_tag": "ABX9TyP9xVpmBTaodl2AwiqrKQSt",
      "include_colab_link": true
    },
    "kernelspec": {
      "name": "python3",
      "display_name": "Python 3"
    },
    "language_info": {
      "name": "python"
    }
  },
  "cells": [
    {
      "cell_type": "markdown",
      "metadata": {
        "id": "view-in-github",
        "colab_type": "text"
      },
      "source": [
        "<a href=\"https://colab.research.google.com/github/eshwardora/214513-Python-/blob/main/Python(214513).ipynb\" target=\"_parent\"><img src=\"https://colab.research.google.com/assets/colab-badge.svg\" alt=\"Open In Colab\"/></a>"
      ]
    },
    {
      "cell_type": "code",
      "execution_count": null,
      "metadata": {
        "colab": {
          "base_uri": "https://localhost:8080/"
        },
        "id": "5kA3Miw9Fty2",
        "outputId": "9e2ef9fa-9165-4ebf-92ca-b84d0c26c62b"
      },
      "outputs": [
        {
          "output_type": "stream",
          "name": "stdout",
          "text": [
            "Enter your birth year= 20\n"
          ]
        }
      ],
      "source": [
        "date_birth= (\"Enter your birth year=\")\n",
        "age= 2022-int(2002)\n",
        "print(date_birth,age)\n"
      ]
    },
    {
      "cell_type": "code",
      "source": [
        "first_no= (2747867865)\n",
        "second_no= (1453377)\n",
        "func= 2747867865* int(1453377)\n",
        "print(func)"
      ],
      "metadata": {
        "colab": {
          "base_uri": "https://localhost:8080/"
        },
        "id": "Ni0UAN7IIDnh",
        "outputId": "a0abcb36-c878-4400-cd88-36e3fb49868c"
      },
      "execution_count": null,
      "outputs": [
        {
          "output_type": "stream",
          "name": "stdout",
          "text": [
            "3993687954030105\n"
          ]
        }
      ]
    },
    {
      "cell_type": "code",
      "source": [
        "#Simple Interest on a certain sum at the rate of 10% per annum for 6 years and 7 years differs by Rs.650/- What is the sum?\n",
        "2* (3+9)/5"
      ],
      "metadata": {
        "colab": {
          "base_uri": "https://localhost:8080/"
        },
        "id": "1B___OMhMucB",
        "outputId": "914baa0c-736a-433f-8203-d41b4a607aef"
      },
      "execution_count": null,
      "outputs": [
        {
          "output_type": "execute_result",
          "data": {
            "text/plain": [
              "4.8"
            ]
          },
          "metadata": {},
          "execution_count": 14
        }
      ]
    },
    {
      "cell_type": "code",
      "source": [
        "5 // (4+5) % 4"
      ],
      "metadata": {
        "colab": {
          "base_uri": "https://localhost:8080/"
        },
        "id": "X2K8h2oIN0SZ",
        "outputId": "3b4e1563-fd23-4806-aea8-f0f8dc2f2c5a"
      },
      "execution_count": null,
      "outputs": [
        {
          "output_type": "execute_result",
          "data": {
            "text/plain": [
              "0"
            ]
          },
          "metadata": {},
          "execution_count": 15
        }
      ]
    },
    {
      "cell_type": "code",
      "source": [
        "2** (3*3)"
      ],
      "metadata": {
        "colab": {
          "base_uri": "https://localhost:8080/"
        },
        "id": "zQMXUrCtOggv",
        "outputId": "8633c125-9772-4a37-ad1f-1f0a00451d78"
      },
      "execution_count": null,
      "outputs": [
        {
          "output_type": "execute_result",
          "data": {
            "text/plain": [
              "512"
            ]
          },
          "metadata": {},
          "execution_count": 16
        }
      ]
    },
    {
      "cell_type": "code",
      "source": [
        "2**3"
      ],
      "metadata": {
        "colab": {
          "base_uri": "https://localhost:8080/"
        },
        "id": "b9pbA2HbRMCH",
        "outputId": "8dcba098-0ae8-4aba-f024-f7219bce161d"
      },
      "execution_count": null,
      "outputs": [
        {
          "output_type": "execute_result",
          "data": {
            "text/plain": [
              "8"
            ]
          },
          "metadata": {},
          "execution_count": 17
        }
      ]
    },
    {
      "cell_type": "code",
      "source": [
        "0<1"
      ],
      "metadata": {
        "colab": {
          "base_uri": "https://localhost:8080/"
        },
        "id": "oKz0e1MvR1c8",
        "outputId": "ef7033c8-dea3-469e-b685-846221025272"
      },
      "execution_count": null,
      "outputs": [
        {
          "output_type": "execute_result",
          "data": {
            "text/plain": [
              "True"
            ]
          },
          "metadata": {},
          "execution_count": 18
        }
      ]
    },
    {
      "cell_type": "code",
      "source": [
        "A= True\n",
        "B= False\n",
        "A or B"
      ],
      "metadata": {
        "colab": {
          "base_uri": "https://localhost:8080/"
        },
        "id": "SLzvxmNJSWta",
        "outputId": "36336887-dbf9-4074-f508-8f08205f9483"
      },
      "execution_count": null,
      "outputs": [
        {
          "output_type": "execute_result",
          "data": {
            "text/plain": [
              "True"
            ]
          },
          "metadata": {},
          "execution_count": 19
        }
      ]
    },
    {
      "cell_type": "markdown",
      "source": [
        "Conditionals Exercise\n"
      ],
      "metadata": {
        "id": "wChqNnf7-qfT"
      }
    },
    {
      "cell_type": "code",
      "source": [
        "hours=input(\"Enter Hours:\")\n",
        "int(hours)\n",
        "rate=input(\"Enter Rate:\")\n",
        "int(rate)\n",
        "if int(hours) <= 40:\n",
        "  pay = int(hours) * int(rate)\n",
        "else:\n",
        "  pay = int(hours) * int(rate) * 1.5\n",
        "int(pay)\n",
        "print(\"Pay:\")\n",
        "print(pay)"
      ],
      "metadata": {
        "colab": {
          "base_uri": "https://localhost:8080/"
        },
        "id": "EgbYcAHi_jRW",
        "outputId": "7d86cf90-1914-461e-e991-361b7f070ec5"
      },
      "execution_count": null,
      "outputs": [
        {
          "output_type": "stream",
          "name": "stdout",
          "text": [
            "Enter Hours:35\n",
            "Enter Rate:25\n",
            "Pay:\n",
            "875\n"
          ]
        }
      ]
    },
    {
      "cell_type": "markdown",
      "source": [
        "Ex-3 (Page-40)"
      ],
      "metadata": {
        "id": "rssuA2VzAMwx"
      }
    },
    {
      "cell_type": "code",
      "source": [
        "score = input(\"Enter Score: \")\n",
        "s =  float(score)\n",
        "x = 'Error'\n",
        "if s >= 0.9:\n",
        "\tx = 'A'\n",
        "elif s >=0.8:\n",
        "\tx='B'\n",
        "elif s >=0.7:\n",
        "\tx='C'\n",
        "elif s >= 0.6:\n",
        "\tx='D'\n",
        "elif s < .6:\n",
        "\tx ='F'\n",
        "else:\n",
        "\tx =\"Out of Range\"\n",
        "print (x)"
      ],
      "metadata": {
        "colab": {
          "base_uri": "https://localhost:8080/"
        },
        "id": "efnr8zcHALvt",
        "outputId": "127e8351-1bfb-42b8-da53-f19f09951aa0"
      },
      "execution_count": null,
      "outputs": [
        {
          "output_type": "stream",
          "name": "stdout",
          "text": [
            "Enter Score: 9.0\n",
            "A\n"
          ]
        }
      ]
    },
    {
      "cell_type": "markdown",
      "source": [
        "Ex-4 (Page-30)"
      ],
      "metadata": {
        "id": "cppkHHKrAzcy"
      }
    },
    {
      "cell_type": "code",
      "source": [
        "width = float(input(\"Enter the Width: \"))\n",
        "height = float(input(\"Enter the Height: \"))\n",
        "\n",
        "\n",
        "print(\"Value is : \", width // 2, \"and type is: \" ,type(width // 2))\n",
        "print(\"Value is : \", width / 2.0 ,\"and type is: \" , type(width / 2.0))\n",
        "print(\"Value is : \", width / 3 ,\"and type is: \" , type(width / 3))\n",
        "print(\"Value is :\" , 1 + 2 * 5,\"and type is: \" , type(1 + 2 * 5))"
      ],
      "metadata": {
        "colab": {
          "base_uri": "https://localhost:8080/"
        },
        "id": "MjVcuqb4BYYu",
        "outputId": "07938373-1e24-4aeb-96ca-cd3542fcee2e"
      },
      "execution_count": null,
      "outputs": [
        {
          "output_type": "stream",
          "name": "stdout",
          "text": [
            "Enter the Width: 56\n",
            "Enter the Height: 28\n",
            "Value is :  28.0 and type is:  <class 'float'>\n",
            "Value is :  28.0 and type is:  <class 'float'>\n",
            "Value is :  18.666666666666668 and type is:  <class 'float'>\n",
            "Value is : 11 and type is:  <class 'int'>\n"
          ]
        }
      ]
    },
    {
      "cell_type": "markdown",
      "source": [
        "To check whether the year is Leap year or not"
      ],
      "metadata": {
        "id": "QvCXTCfhVy7T"
      }
    },
    {
      "cell_type": "code",
      "source": [
        "# User enters the year\n",
        "year= int (input(\"Enter year:\"))\n",
        "\n",
        "# Leap year Check\n",
        "if year % 4 == 0 and year % 100 !=0:\n",
        "  print (year, \"is a Leap year\")\n",
        "elif year % 100 == 0:\n",
        "  print (year, \"is not a Leap year\")\n",
        "elif year % 400 == 0:\n",
        "  print (year, \"is a Leap year\") \n",
        "else:\n",
        "  print (year, \"is not a Leap year\")     \n"
      ],
      "metadata": {
        "colab": {
          "base_uri": "https://localhost:8080/"
        },
        "id": "3tb6TO6hW3G2",
        "outputId": "4d80047d-cc0f-420f-c87b-4842a5abcad7"
      },
      "execution_count": null,
      "outputs": [
        {
          "output_type": "stream",
          "name": "stdout",
          "text": [
            "Enter year:2004\n",
            "2004 is a Leap year\n"
          ]
        }
      ]
    },
    {
      "cell_type": "markdown",
      "source": [
        "Chapter-4 (Functions)\n",
        "Page-54\n",
        "Ex-7"
      ],
      "metadata": {
        "id": "KvX4LgirXJj2"
      }
    },
    {
      "cell_type": "code",
      "source": [
        "def computegrade(tmp_score):\n",
        "    \"\"\"\n",
        "    Computes the final grade based on a 0.0 to 1.0 scale. If the score is\n",
        "    not between 0.0 and 1.0, returns \"Bad score.\"\n",
        "    Input:    score -- score (must be between 0.0 and 1.0)\n",
        "    Output:    returns a grade as a string.\n",
        "    \"\"\"\n",
        "    if 0.0 <= tmp_score <= 1.0:\n",
        "        if tmp_score >= 0.9:\n",
        "            return 'A'\n",
        "        if tmp_score >= 0.8:\n",
        "            return 'B'\n",
        "        if tmp_score >= 0.7:\n",
        "            return 'C'\n",
        "        if tmp_score >= 0.6:\n",
        "            return 'D'\n",
        "        return 'F'\n",
        "    # Case 'score' is not on the interval\n",
        "    return 'Bad score'\n",
        "\n",
        "\n",
        "input_score = input('Enter score: ')\n",
        "score = 0.0\n",
        "\n",
        "try:\n",
        "    score = float(input_score)             # Only allows input floats\n",
        "except ValueError:\n",
        "    print('Bad score')\n",
        "    quit()\n",
        "\n",
        "grade = computegrade(score)\n",
        "print(grade)"
      ],
      "metadata": {
        "colab": {
          "base_uri": "https://localhost:8080/"
        },
        "id": "6-hhwI8n80TJ",
        "outputId": "1fe25735-4c5b-413d-dc49-80e82f133db1"
      },
      "execution_count": null,
      "outputs": [
        {
          "output_type": "stream",
          "name": "stdout",
          "text": [
            "Enter score: 2\n",
            "Bad score\n"
          ]
        }
      ]
    },
    {
      "cell_type": "markdown",
      "source": [
        "Page=54 \n",
        "Ex-6"
      ],
      "metadata": {
        "id": "pn2RhLci9qqR"
      }
    },
    {
      "cell_type": "code",
      "source": [
        "def computepay(h,r):\n",
        "    if h > 40:\n",
        "        p = 1.5 * r * (h - 40) + (40 *r)\n",
        "    else:\n",
        "        p = h * r\n",
        "    return p\n",
        "    \n",
        "hrs = input(\"Enter Hours:\")\n",
        "hr = float(hrs)\n",
        "rphrs = input(\"Enter rate per hour:\")\n",
        "rphr = float(rphrs)\n",
        "\n",
        "p = computepay(hr,rphr)\n",
        "print(p)"
      ],
      "metadata": {
        "colab": {
          "base_uri": "https://localhost:8080/"
        },
        "id": "UWLrhdoGDSmu",
        "outputId": "8691ee79-5e84-4525-9f20-00bd159d623b"
      },
      "execution_count": null,
      "outputs": [
        {
          "output_type": "stream",
          "name": "stdout",
          "text": [
            "Enter Hours:45\n",
            "Enter rate per hour:10\n",
            "475.0\n"
          ]
        }
      ]
    },
    {
      "cell_type": "markdown",
      "source": [
        "Chapter= Iteration\n",
        "Page= 64\n",
        "Exercise-1"
      ],
      "metadata": {
        "id": "z9bcLY4xEv1P"
      }
    },
    {
      "cell_type": "code",
      "source": [
        "num = 0\n",
        "tot = 0.0\n",
        "while True:\n",
        "    number = input(\"Enter a number\")\n",
        "    if number == 'done':\n",
        "        break\n",
        "    try :\n",
        "        num1 = float(number)\n",
        "    except:\n",
        "        print('Invailed Input')\n",
        "        continue\n",
        "    num = num+1\n",
        "    tot = tot + num1\n",
        "print ('all done')\n",
        "print (tot,num,tot/num)"
      ],
      "metadata": {
        "colab": {
          "base_uri": "https://localhost:8080/"
        },
        "id": "Rn0fsbgBE58b",
        "outputId": "4009b2a9-dfc0-47fc-8603-2a3aefcd281f"
      },
      "execution_count": null,
      "outputs": [
        {
          "output_type": "stream",
          "name": "stdout",
          "text": [
            "Enter a number4\n",
            "Enter a number6\n",
            "Enter a number7\n",
            "Enter a number9\n",
            "Enter a number3\n",
            "Enter a number8\n",
            "Enter a numberdone\n",
            "all done\n",
            "37.0 6 6.166666666666667\n"
          ]
        }
      ]
    },
    {
      "cell_type": "markdown",
      "source": [
        "Exercise-2"
      ],
      "metadata": {
        "id": "4qN9yZpeFfoT"
      }
    },
    {
      "cell_type": "code",
      "source": [
        "largest = None\n",
        "smallest = None\n",
        "count = 0\n",
        "total = 0\n",
        "while True:\n",
        "    try:\n",
        "        \n",
        "        number = input(\"Enter a number: \")\n",
        "        if number == \"done\":\n",
        "            break\n",
        "        number = int(number)\n",
        "        count +=1\n",
        "        total =number + total\n",
        "        if largest == None and smallest == None:\n",
        "            largest = number\n",
        "            smallest = number\n",
        "        if largest == None or number > largest:\n",
        "            largest = number\n",
        "        if smallest == None or number < smallest:\n",
        "            smallest = number\n",
        "    except:\n",
        "        print(\"Invalid input\")\n",
        "print(\"The maximum number is: {}\".format(largest))\n",
        "print(\"The minimum number is: {}\".format(smallest))  \n",
        "print(\"The total number is: {}\".format(total))\n",
        "print(\"The count number is: {}\".format(count))"
      ],
      "metadata": {
        "colab": {
          "base_uri": "https://localhost:8080/"
        },
        "id": "kZyOtgJCGfgx",
        "outputId": "a498041a-61ee-4d87-cd19-1236e2e91c6e"
      },
      "execution_count": null,
      "outputs": [
        {
          "output_type": "stream",
          "name": "stdout",
          "text": [
            "Enter a number: 57885\n",
            "Enter a number: 58942\n",
            "Enter a number: 57043567\n",
            "Enter a number: 7856758696\n",
            "Enter a number: 76674524\n",
            "Enter a number: done\n",
            "The maximum number is: 7856758696\n",
            "The minimum number is: 57885\n",
            "The total number is: 7990593614\n",
            "The count number is: 5\n"
          ]
        }
      ]
    }
  ]
}