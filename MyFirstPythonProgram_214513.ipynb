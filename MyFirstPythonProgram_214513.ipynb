{
  "nbformat": 4,
  "nbformat_minor": 0,
  "metadata": {
    "colab": {
      "name": "MyFirstPythonProgram_214513.ipynb",
      "provenance": [],
      "authorship_tag": "ABX9TyOlUeL3Gi4pE9yR/s0I2lIT",
      "include_colab_link": true
    },
    "kernelspec": {
      "name": "python3",
      "display_name": "Python 3"
    },
    "language_info": {
      "name": "python"
    }
  },
  "cells": [
    {
      "cell_type": "markdown",
      "metadata": {
        "id": "view-in-github",
        "colab_type": "text"
      },
      "source": [
        "<a href=\"https://colab.research.google.com/github/eshwardora/214513-Python-/blob/main/MyFirstPythonProgram_214513.ipynb\" target=\"_parent\"><img src=\"https://colab.research.google.com/assets/colab-badge.svg\" alt=\"Open In Colab\"/></a>"
      ]
    },
    {
      "cell_type": "markdown",
      "source": [
        "Sai ram, I will be writing my first Python Programme\n",
        "Keyword\n",
        "Syntax\n",
        "Error/Mistakes\n",
        "Debugging\n",
        "\n",
        "---\n",
        "\n"
      ],
      "metadata": {
        "id": "keO-2vrK5p-_"
      }
    },
    {
      "cell_type": "code",
      "execution_count": null,
      "metadata": {
        "colab": {
          "base_uri": "https://localhost:8080/"
        },
        "id": "W6wzKd7s4uLf",
        "outputId": "9da697b0-e063-4f86-c198-2f8c8659819a"
      },
      "outputs": [
        {
          "output_type": "stream",
          "name": "stdout",
          "text": [
            "Sai ram\n",
            "Sai\n",
            "ram\n"
          ]
        }
      ],
      "source": [
        "print('Sai ram')\n",
        "print('Sai')\n",
        "print (\"ram\")\n",
        "\n"
      ]
    },
    {
      "cell_type": "code",
      "source": [
        "print ('Hello world')"
      ],
      "metadata": {
        "colab": {
          "base_uri": "https://localhost:8080/"
        },
        "id": "Fu1SwGVlL2iT",
        "outputId": "3cd7e34e-f0b1-4134-abc7-90fc9ff398b3"
      },
      "execution_count": null,
      "outputs": [
        {
          "output_type": "stream",
          "name": "stdout",
          "text": [
            "Hello world\n"
          ]
        }
      ]
    },
    {
      "cell_type": "code",
      "source": [
        "input= ('what is your name')\n",
        "print(input)"
      ],
      "metadata": {
        "id": "gBnmIAzERsFe",
        "colab": {
          "base_uri": "https://localhost:8080/"
        },
        "outputId": "40b610e1-3a2f-4d24-d52b-d95564b2103f"
      },
      "execution_count": null,
      "outputs": [
        {
          "output_type": "stream",
          "name": "stdout",
          "text": [
            "what is your name\n"
          ]
        }
      ]
    },
    {
      "cell_type": "code",
      "source": [
        "Name= (\"john\")\n",
        "age= 20\n",
        "print(Name,age)"
      ],
      "metadata": {
        "colab": {
          "base_uri": "https://localhost:8080/"
        },
        "id": "9FHz0d-p7zP0",
        "outputId": "ef08cbc5-4ff9-44fe-ba8d-c14a6d9ee8a5"
      },
      "execution_count": null,
      "outputs": [
        {
          "output_type": "stream",
          "name": "stdout",
          "text": [
            "john 20\n"
          ]
        }
      ]
    },
    {
      "cell_type": "code",
      "source": [
        "no= int(20)\n",
        "function= 100-int(no)\n",
        "print(function)\n"
      ],
      "metadata": {
        "colab": {
          "base_uri": "https://localhost:8080/"
        },
        "id": "_DAsJehUE47W",
        "outputId": "851f8b9a-23ee-4d70-fea0-e18772e00658"
      },
      "execution_count": null,
      "outputs": [
        {
          "output_type": "stream",
          "name": "stdout",
          "text": [
            "80\n"
          ]
        }
      ]
    }
  ]
}